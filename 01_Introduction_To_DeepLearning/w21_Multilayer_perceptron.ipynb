{
  "nbformat": 4,
  "nbformat_minor": 0,
  "metadata": {
    "colab": {
      "name": "w21_Multilayer_perceptron",
      "version": "0.3.2",
      "provenance": [],
      "collapsed_sections": [],
      "include_colab_link": true
    },
    "kernelspec": {
      "name": "python3",
      "display_name": "Python 3"
    }
  },
  "cells": [
    {
      "cell_type": "markdown",
      "metadata": {
        "id": "view-in-github",
        "colab_type": "text"
      },
      "source": [
        "[View in Colaboratory](https://colab.research.google.com/github/RayleighKim/Example_datasets/blob/master/01_Introduction_To_DeepLearning/w21_Multilayer_perceptron.ipynb)"
      ]
    },
    {
      "metadata": {
        "id": "M5urgouueCxS",
        "colab_type": "text"
      },
      "cell_type": "markdown",
      "source": [
        "# Quiz : Multilayer_perceptron\n",
        "---\n",
        "Rayleigh Kim @ dplus\n",
        "\n",
        "email1 : rayleigh@dplus.company<br>\n",
        "email2 : wood.rayleigh@gmail.com\n",
        "\n",
        "\n",
        "\n"
      ]
    },
    {
      "metadata": {
        "id": "GdSYY0wXfDYc",
        "colab_type": "text"
      },
      "cell_type": "markdown",
      "source": [
        "## Q1. The best nonlinearity functions to use in a Multilayer perceptron are step functions as they allow to reconstruct the decision boundary with better precision\n",
        "\n",
        "* Yes\n",
        "* No **We can't differentiate step functions**"
      ]
    },
    {
      "metadata": {
        "id": "NNzc6I1mg2eg",
        "colab_type": "text"
      },
      "cell_type": "markdown",
      "source": [
        "## Q2. A dense layer applies a linear transformation to its input\n",
        "\n",
        "* Yes **As we can see the slides**\n",
        "* No"
      ]
    },
    {
      "metadata": {
        "id": "mldNyHxdfisT",
        "colab_type": "text"
      },
      "cell_type": "markdown",
      "source": [
        "## Q3. For an MLP to work, the nonlinearity function must have a finite upper bound\n",
        "\n",
        "* Yes\n",
        "* No ** In General, ReLu is better than functions like sigmoid which have a finite upper bound**"
      ]
    },
    {
      "metadata": {
        "id": "5EuwIgVISWh3",
        "colab_type": "text"
      },
      "cell_type": "markdown",
      "source": [
        "## Q4. How many dimensions will a derivative of a 1-D vector by a 2-D matrix have?\n",
        "\n",
        "\n",
        "![like_this](https://github.com/RayleighKim/Example_datasets/blob/master/derivative_of_1dvector_by_2dmatrix.PNG?raw=true)\n",
        "\n",
        "must be 3"
      ]
    },
    {
      "metadata": {
        "id": "7a2w2Kw5TEnk",
        "colab_type": "code",
        "colab": {}
      },
      "cell_type": "code",
      "source": [
        ""
      ],
      "execution_count": 0,
      "outputs": []
    }
  ]
}