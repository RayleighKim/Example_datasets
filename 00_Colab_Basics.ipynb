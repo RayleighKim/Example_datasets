{
  "nbformat": 4,
  "nbformat_minor": 0,
  "metadata": {
    "colab": {
      "name": "00_Colab_Basics.ipynb",
      "version": "0.3.2",
      "provenance": [],
      "collapsed_sections": [
        "sNKHr4xc-8gW",
        "qAHLjoP_EUQx",
        "7ldgQlRbGzn2",
        "eOO-pcoKmi1z",
        "MXHLpl9erIEN",
        "I9UOTCHu3qfV",
        "dj1ym8sYIUIY"
      ],
      "include_colab_link": true
    },
    "kernelspec": {
      "name": "python3",
      "display_name": "Python 3"
    },
    "accelerator": "GPU"
  },
  "cells": [
    {
      "cell_type": "markdown",
      "metadata": {
        "id": "view-in-github",
        "colab_type": "text"
      },
      "source": [
        "[View in Colaboratory](https://colab.research.google.com/github/RayleighKim/Example_datasets/blob/master/00_Colab_Basics.ipynb)"
      ]
    },
    {
      "metadata": {
        "id": "4ndO2EeP5ECL",
        "colab_type": "text"
      },
      "cell_type": "markdown",
      "source": [
        "# Google Colaboratory Basics!\n",
        "\n",
        "Writer : Rayleigh Kim\n",
        "\n",
        "e-mail : rayleigh@dplus.company\n",
        "\n",
        "\n",
        "#### 이 튜토리얼의 목표\n",
        "\n",
        "*다음의  8가지를 자유롭게 할 수 있다면 완료 ! *\n",
        "\n",
        "1. 셀 선택, 편집 모드 진입/선택모드\n",
        "2. 셀을 실행하는 방법들\n",
        "3. 마크다운 셀 / 코드 셀 전환\n",
        "2. 코드 Line number\n",
        "5. 셀 생성, 셀 삭제\n",
        "5. 링크 삽입 / 이미지 삽입\n",
        "7. 저장과 노트 설정\n",
        "8. 구글드라이브연동\n",
        "\n",
        "#### (+Optional) 구글 Colab의 기본 스펙을 알아보자!\n",
        "\n",
        "#### (+Optional) Git에도 저장할수 있다!"
      ]
    },
    {
      "metadata": {
        "id": "U9nds1dnr-X7",
        "colab_type": "text"
      },
      "cell_type": "markdown",
      "source": [
        "![이미지](https://github.com/RayleighKim/Example_datasets/blob/master/Google_Colab_Guide.PNG?raw=true)"
      ]
    },
    {
      "metadata": {
        "id": "Bset4YGo37Tf",
        "colab_type": "text"
      },
      "cell_type": "markdown",
      "source": [
        "### 0. 주의\n",
        "\n",
        "* 실행 결과가 나오기전에 반복실행은 삼가주세요.\n",
        "* 코드가 너무 오래 도는것 같은 경우 Ctrl+ M + I 를 눌러 코드를 멈춰주세요.\n",
        "* 뭔가 완전히 망한 것 같은 경우 Ctrl+M+.(dot)을 눌러서 런타임을 재시작 하면 됩니다. (위의 메뉴를 통해서도 가능합니다.)\n",
        "* 우측 상단에 댓글, 공유 아래에 녹색으로 '연결됨'이라고 되어있는지 체크해주세요."
      ]
    },
    {
      "metadata": {
        "id": "fQc-pZCY-8Tu",
        "colab_type": "text"
      },
      "cell_type": "markdown",
      "source": [
        "### 1. 셀 선택, 편집 모드 진입 / 선택 모드\n",
        "\n",
        "Arrows, Enter, Esc 마음껏 움직여 보라!\n",
        "\n",
        "Q1. 편집모드와 선택모드를 구별 할 수 있나요?"
      ]
    },
    {
      "metadata": {
        "id": "sNKHr4xc-8gW",
        "colab_type": "text"
      },
      "cell_type": "markdown",
      "source": [
        "### 2. 셀을 실행하는 방법들\n",
        "\n",
        "Alt / Ctrl / Shift + Enter\n",
        "\n",
        "Q1. 각각의 차이점을 적어보자!"
      ]
    },
    {
      "metadata": {
        "id": "rqUi-NTP5hVr",
        "colab_type": "code",
        "colab": {}
      },
      "cell_type": "code",
      "source": [
        "print('Hello? Is it me you are looking for?')"
      ],
      "execution_count": 0,
      "outputs": []
    },
    {
      "metadata": {
        "id": "xL0zRsbBDMeJ",
        "colab_type": "code",
        "colab": {}
      },
      "cell_type": "code",
      "source": [
        "print(\"안녕! 힘세고 강한 아침! '나는 왈도'\")"
      ],
      "execution_count": 0,
      "outputs": []
    },
    {
      "metadata": {
        "id": "B6aU6HUq-9Bv",
        "colab_type": "code",
        "colab": {}
      },
      "cell_type": "code",
      "source": [
        ""
      ],
      "execution_count": 0,
      "outputs": []
    },
    {
      "metadata": {
        "id": "qAHLjoP_EUQx",
        "colab_type": "text"
      },
      "cell_type": "markdown",
      "source": [
        "### 3. 마크다운 셀 / 코드 셀 전환\n",
        "\n",
        "\n",
        "Google Colaboratory 의 단축키들은 상당수 Ctrl + M 으로 시작을 한다!\n",
        "\n",
        "\n",
        "* 마크다운으로 전환 : Ctrl + M M\n",
        "* 코드셀로 전환 : Ctrl + M Y"
      ]
    },
    {
      "metadata": {
        "id": "caBCPYZbEnYR",
        "colab_type": "code",
        "colab": {}
      },
      "cell_type": "code",
      "source": [
        "#### 여기는 마크다운 셀\n",
        "\n",
        "1. Please change this cell into a MarkDown Cell\n",
        "\n",
        "or we can't run this cell correctly"
      ],
      "execution_count": 0,
      "outputs": []
    },
    {
      "metadata": {
        "id": "Cz0Gn5hbFJaA",
        "colab_type": "text"
      },
      "cell_type": "markdown",
      "source": [
        "'''\n",
        "Need to change this cell into a Code Cell\n",
        "'''\n",
        "\n",
        "print( 'This song starts with \" I crossed the valleys the dust of midlands \", What is the Name of this song?')\n",
        "print( 'type the name of this song with ')\n",
        "\n",
        "answers = raw_input(\"Answer? : \")\n",
        "\n",
        "if answers == 'emerald sword' :\n",
        "  print(\"Yes, Yes Y'all ! \")\n",
        "else :\n",
        "  print('type correctly, plz')"
      ]
    },
    {
      "metadata": {
        "id": "7ldgQlRbGzn2",
        "colab_type": "text"
      },
      "cell_type": "markdown",
      "source": [
        "### 4. 코드 Line Number"
      ]
    },
    {
      "metadata": {
        "id": "bE9SjFkUm7QJ",
        "colab_type": "text"
      },
      "cell_type": "markdown",
      "source": [
        "Ctrl + M L\n"
      ]
    },
    {
      "metadata": {
        "id": "BUG-ch1-GNQq",
        "colab_type": "code",
        "colab": {}
      },
      "cell_type": "code",
      "source": [
        "sample_list = []\n",
        "sumsum = 0\n",
        "\n",
        "for i in range(10) :\n",
        "  sample_list.append(i)\n",
        "  sumsum += i\n",
        "  print(i)\n",
        "print('loop done')\n",
        "print(sumsum)\n",
        "print(sample_list)"
      ],
      "execution_count": 0,
      "outputs": []
    },
    {
      "metadata": {
        "id": "eOO-pcoKmi1z",
        "colab_type": "text"
      },
      "cell_type": "markdown",
      "source": [
        "### 5. 셀 생성, 셀 삭제"
      ]
    },
    {
      "metadata": {
        "id": "HFBVSHlGqzSw",
        "colab_type": "text"
      },
      "cell_type": "markdown",
      "source": [
        "선택된 셀 기준으로\n",
        "* 위에 셀 생성 : Ctrl + M A\n",
        "* 아래에 셀 생성 : Ctrl + M B\n"
      ]
    },
    {
      "metadata": {
        "id": "_EAzs-arqqp9",
        "colab_type": "code",
        "colab": {}
      },
      "cell_type": "code",
      "source": [
        "print('이 셀을 기준으로 위에 2개 아래에 2개 생성하시오')"
      ],
      "execution_count": 0,
      "outputs": []
    },
    {
      "metadata": {
        "id": "P7frniNiqqxN",
        "colab_type": "text"
      },
      "cell_type": "markdown",
      "source": [
        "### 6. 링크 삽입, 이미지 삽입\n",
        "\n",
        "\n",
        "[Imagine Dragons - Believer](https://www.youtube.com/watch?v=7wtfhZwyrcc)\n",
        "\n",
        "[여기를 눌러보면 좋은 방법들이 많다!](https://gist.github.com/ninanung/2b81a5db946c26c98c573e3662a92b62)\n",
        "\n",
        "![이미지](https://media1.s-nbcnews.com/i/newscms/2015_26/650336/150626-imagine-dragons-tz_475ef4b358f3fb4fab0ad37c65ab5705.jpg \"Imagine Dragons\")"
      ]
    },
    {
      "metadata": {
        "id": "MXHLpl9erIEN",
        "colab_type": "text"
      },
      "cell_type": "markdown",
      "source": [
        "### 7. 저장과 노트 설정\n",
        "\n",
        "* 저장 : Ctrl + S\n",
        "* 수정 -> 노트 설정"
      ]
    },
    {
      "metadata": {
        "id": "PZqSYRsi3qVE",
        "colab_type": "code",
        "colab": {}
      },
      "cell_type": "code",
      "source": [
        "!python --version"
      ],
      "execution_count": 0,
      "outputs": []
    },
    {
      "metadata": {
        "id": "I9UOTCHu3qfV",
        "colab_type": "text"
      },
      "cell_type": "markdown",
      "source": [
        "### 8. 구글드라이브연동\n",
        "\n",
        "1. 가장 먼저 시도해 볼 것은 자신의 드라이브와 연동하는 것이다.\n",
        "2. 안되면 파일 업로드/다운로드 코드를 이용해야 한다.\n",
        "\n",
        "연동이 성공적으로 된다면, 구글 드라이브 내에서 파일을 업로드/다운로드 하며 사용할 수 있다.\n",
        "\n",
        "주의 : 노트북 마다 새로이 연동을 시켜야 한다."
      ]
    },
    {
      "metadata": {
        "id": "Ac6ABFMLHqCr",
        "colab_type": "text"
      },
      "cell_type": "markdown",
      "source": [
        "일단, 구글 드라이브와 연동을 시도한다.\n",
        "\n",
        "인내심을 가지고 천천히 기다리자, 코드 반복실행등을 하면 할 수록 늦어지거나 응답하지 않는다."
      ]
    },
    {
      "metadata": {
        "id": "AMr8Muj15Oyk",
        "colab_type": "code",
        "colab": {}
      },
      "cell_type": "code",
      "source": [
        "!apt-get install -y -qq software-properties-common python-software-properties module-init-tools\n",
        "!add-apt-repository -y ppa:alessandro-strada/ppa 2>&1 > /dev/null\n",
        "!apt-get update -qq 2>&1 > /dev/null\n",
        "!apt-get -y install -qq google-drive-ocamlfuse fuse\n",
        "from google.colab import auth\n",
        "auth.authenticate_user()\n",
        "from oauth2client.client import GoogleCredentials\n",
        "creds = GoogleCredentials.get_application_default()\n",
        "import getpass\n",
        "!google-drive-ocamlfuse -headless -id={creds.client_id} -secret={creds.client_secret} < /dev/null 2>&1 | grep URL\n",
        "vcode = getpass.getpass()\n",
        "!echo {vcode} | google-drive-ocamlfuse -headless -id={creds.client_id} -secret={creds.client_secret}"
      ],
      "execution_count": 0,
      "outputs": []
    },
    {
      "metadata": {
        "id": "_yF2TIFR5O18",
        "colab_type": "code",
        "colab": {}
      },
      "cell_type": "code",
      "source": [
        "!mkdir -p drive\n",
        "!google-drive-ocamlfuse drive"
      ],
      "execution_count": 0,
      "outputs": []
    },
    {
      "metadata": {
        "id": "ruavEx87GwDj",
        "colab_type": "code",
        "colab": {}
      },
      "cell_type": "code",
      "source": [
        "!ls -ltr"
      ],
      "execution_count": 0,
      "outputs": []
    },
    {
      "metadata": {
        "id": "R8BBSmfS5O4Q",
        "colab_type": "code",
        "colab": {}
      },
      "cell_type": "code",
      "source": [
        "cd drive"
      ],
      "execution_count": 0,
      "outputs": []
    },
    {
      "metadata": {
        "id": "GXE59qmqG65c",
        "colab_type": "code",
        "colab": {}
      },
      "cell_type": "code",
      "source": [
        " cd temp"
      ],
      "execution_count": 0,
      "outputs": []
    },
    {
      "metadata": {
        "id": "3ljQbDpvG7fK",
        "colab_type": "code",
        "colab": {}
      },
      "cell_type": "code",
      "source": [
        "!ls"
      ],
      "execution_count": 0,
      "outputs": []
    },
    {
      "metadata": {
        "id": "-fhZ5PalIO1i",
        "colab_type": "text"
      },
      "cell_type": "markdown",
      "source": [
        "위 방식대로 하여 구글 드라이브가 연동이 되지 않거나, 다른 문제가 있다면\n",
        "\n",
        "임시로 다른 방식을 사용해 볼 수 있다. \n",
        "\n",
        "다음 링크를 참고하여 파일을 업로드/다운로드 해보자\n",
        "\n",
        "[여기 참고](https://gist.github.com/korakot/e7f04fa7bd3a8a67b729da279ab1713a)"
      ]
    },
    {
      "metadata": {
        "id": "dj1ym8sYIUIY",
        "colab_type": "text"
      },
      "cell_type": "markdown",
      "source": [
        "#### (+Optional) Google Colab의 스펙을 알아보자"
      ]
    },
    {
      "metadata": {
        "id": "rwVn7JUDJ2c0",
        "colab_type": "code",
        "colab": {}
      },
      "cell_type": "code",
      "source": [
        "from tensorflow.python.client import device_lib\n",
        "device_lib.list_local_devices()"
      ],
      "execution_count": 0,
      "outputs": []
    },
    {
      "metadata": {
        "id": "sBZS-HwLJHUn",
        "colab_type": "code",
        "colab": {}
      },
      "cell_type": "code",
      "source": [
        "import platform\n",
        "\n",
        "platform.platform()"
      ],
      "execution_count": 0,
      "outputs": []
    },
    {
      "metadata": {
        "id": "tEmzbnENIwya",
        "colab_type": "code",
        "colab": {}
      },
      "cell_type": "code",
      "source": [
        "!cat /proc/meminfo"
      ],
      "execution_count": 0,
      "outputs": []
    },
    {
      "metadata": {
        "id": "DjC087CLItui",
        "colab_type": "code",
        "colab": {}
      },
      "cell_type": "code",
      "source": [
        "!cat /proc/cpuinfo"
      ],
      "execution_count": 0,
      "outputs": []
    },
    {
      "metadata": {
        "id": "nr2k3nnvIt0M",
        "colab_type": "code",
        "colab": {}
      },
      "cell_type": "code",
      "source": [
        ""
      ],
      "execution_count": 0,
      "outputs": []
    }
  ]
}